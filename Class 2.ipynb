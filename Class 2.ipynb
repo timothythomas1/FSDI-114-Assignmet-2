{
 "cells": [
  {
   "cell_type": "markdown",
   "id": "fae19b20",
   "metadata": {},
   "source": [
    "## Introductory Implementation of a stack: \n",
    "### Last In, First Out (LI-FO)\n",
    "\n",
    "#### Here's a blueprint of a stack"
   ]
  },
  {
   "cell_type": "code",
   "execution_count": 38,
   "id": "5bc1b7bd",
   "metadata": {},
   "outputs": [],
   "source": [
    "\n",
    "# class Stack:\n",
    "#     def __init__(self):\n",
    "#         self.items = [] # This is NOT exposed to the users.\n",
    "    \n",
    "#     # These are essential\n",
    "#     def push(self, item):\n",
    "#         self.items.append(item)\n",
    "    \n",
    "#     def pop(self): # Remove and retrieve an element\n",
    "#         return self.items.pop() \n",
    "            \n",
    "#     # These are nice to have\n",
    "#     def is_empty(self):  # This is just a boolean check\n",
    "#         return self.items == []\n",
    "    \n",
    "#     def peek(self):\n",
    "#         return self.items[len(self.items)-1] #\n",
    "    \n",
    "#     def size(self):\n",
    "#         return len(self.items)"
   ]
  },
  {
   "cell_type": "markdown",
   "id": "8105e6dc",
   "metadata": {},
   "source": [
    "# Problem 2\n",
    "### Invert a string using our stack class.\n",
    "\n",
    "Using the stack class above, create a function called \"reverse_str\" that takes a string as a parameter and returns it in and inverted order. \n",
    "\n",
    "```\n",
    "EXAMPLES:\n",
    "reverse_str(\"Rafael\") == \"leafaR\"\n",
    "reverse_str(\"cars\") == \"srac\"\n",
    "reverse_str(\"house\") == \"esuoh\"\n",
    "```\n"
   ]
  },
  {
   "cell_type": "code",
   "execution_count": 39,
   "id": "7a2f1086",
   "metadata": {},
   "outputs": [],
   "source": [
    "# (A) Pseudo Code FIRST! \n",
    "#  (0.1) define a function reverse_str: parameter -> (string) and using the stack class methods above.\n",
    "#    (0) Create a var 'rev_str' to hold 'string' parameter\n",
    "#    (1) Create a for-loop for every string variable that iterates through every letter and pushes them to \n",
    "#        'items' list attribute in the Stack() class using our 'stack' instantiation. The list is in order.\n",
    "#\n",
    "#        (2) Within each iteration or loop, use the stack.push() method to remove the first letter in 'items'.\n",
    "#        (3) Within the same iteration or loop instance, use the stack.pop() method and store to 'rev_str'\n",
    "#            for each loop.\n",
    "#        (4) Return 'rev_str'"
   ]
  },
  {
   "cell_type": "code",
   "execution_count": 40,
   "id": "02471a8a",
   "metadata": {},
   "outputs": [],
   "source": [
    "str1 = \"house\"\n",
    "str2 = \" BlhHj oIo L!\"\n",
    "\n",
    "def reverse_str(str_input):\n",
    "    rev_str = \"\"    # You can append to strings\n",
    "    stack = Stack() # Instantiate the class to a \n",
    "    \n",
    "    for each_letter in str_input:      # Pushes each letter to the self.items = []\n",
    "        stack.push(each_letter)\n",
    "\n",
    "    while not stack.is_empty():\n",
    "#       rev_str = rev_str + stack.pop()\n",
    "        rev_str += stack.pop()\n",
    "        \n",
    "    return rev_str\n",
    "        \n",
    "        "
   ]
  },
  {
   "cell_type": "code",
   "execution_count": 41,
   "id": "d8d1b7c7",
   "metadata": {},
   "outputs": [
    {
     "data": {
      "text/plain": [
       "'!L oIo jHhlB '"
      ]
     },
     "execution_count": 41,
     "metadata": {},
     "output_type": "execute_result"
    }
   ],
   "source": [
    "reverse_str(str1)\n",
    "reverse_str(str2)\n"
   ]
  },
  {
   "cell_type": "markdown",
   "id": "7112e017",
   "metadata": {},
   "source": [
    "## Introductory Implementation of a queue: \n",
    "### First In, First Out (FI-FO)\n",
    "\n",
    "#### Here's a blueprint of a que"
   ]
  },
  {
   "cell_type": "code",
   "execution_count": 57,
   "id": "26364333",
   "metadata": {},
   "outputs": [],
   "source": [
    "# Introductory implementation of a queue\n",
    "# This implementation uses \"buildt-in\" data structures and methods to achieve its goal.\n",
    "class Queue:\n",
    "    def __init__(self):\n",
    "        self.items = []\n",
    "        \n",
    "    # these are essential:\n",
    "    def enqueue(self, item):\n",
    "        self.items.insert(0, item) # Inserts the item at the head of the list.\n",
    "        \n",
    "    def dequeue(self):\n",
    "        return self.items.pop()\n",
    "    \n",
    "    # These are essential:\n",
    "    def is_empty(self):  # This is just a boolean check.\n",
    "        return self.items == []\n",
    "    \n",
    "    def size(self):\n",
    "        return len(self.items)"
   ]
  },
  {
   "cell_type": "markdown",
   "id": "62c13852",
   "metadata": {},
   "source": [
    "![] image.file"
   ]
  },
  {
   "cell_type": "markdown",
   "id": "f9691fee",
   "metadata": {},
   "source": [
    "## Primative Data Types:\n",
    "###"
   ]
  },
  {
   "cell_type": "code",
   "execution_count": 58,
   "id": "b7d6c2a7",
   "metadata": {},
   "outputs": [
    {
     "name": "stdout",
     "output_type": "stream",
     "text": [
      "5\n"
     ]
    }
   ],
   "source": [
    "# Example of pass by value\n",
    "\n",
    "x = 5\n",
    "y = x\n",
    "\n",
    "x = x + 1\n",
    "\n",
    "print(y)"
   ]
  },
  {
   "cell_type": "code",
   "execution_count": 59,
   "id": "bb5349b4",
   "metadata": {},
   "outputs": [
    {
     "name": "stdout",
     "output_type": "stream",
     "text": [
      "[1, 2, 3, 4, 5, 6]\n"
     ]
    }
   ],
   "source": [
    "# Example of pass by reference\n",
    "\n",
    "x = [1, 2, 3, 4, 5]\n",
    "\n",
    "y = x\n",
    "\n",
    "x.append(6)\n",
    "\n",
    "print(y)"
   ]
  },
  {
   "cell_type": "markdown",
   "id": "1c7a11bf",
   "metadata": {},
   "source": [
    "## Implementation of a stack class from scratch"
   ]
  },
  {
   "cell_type": "code",
   "execution_count": 79,
   "id": "098fc7c6",
   "metadata": {},
   "outputs": [],
   "source": [
    "# Implementation of a stack class from scratch\n",
    "\n",
    "class Node:\n",
    "    def __init__(self, data):\n",
    "        self.data = data\n",
    "        self.above = None\n"
   ]
  },
  {
   "cell_type": "code",
   "execution_count": 86,
   "id": "009db35f",
   "metadata": {},
   "outputs": [
    {
     "name": "stdout",
     "output_type": "stream",
     "text": [
      "1\n",
      "2\n",
      "3\n"
     ]
    }
   ],
   "source": [
    "x = [1, 2, 3, 4, 5]\n",
    "\n",
    "base = Node(x[0]) \n",
    "new_node = Node(x[1])\n",
    "base.above = new_node          # This is where we link them!\n",
    "new_node_one = Node(x[2])\n",
    "new_node.above = new_node_one\n",
    "\n",
    "current = base\n",
    "while current:                # This is the same as \"while current != None\"\n",
    "    print(current.data)\n",
    "    current = current.above   # "
   ]
  },
  {
   "cell_type": "code",
   "execution_count": 93,
   "id": "53647c6f",
   "metadata": {},
   "outputs": [],
   "source": [
    "class Stack:\n",
    "    def __init__(self):\n",
    "        self.base = None\n",
    "    \n",
    "    def is_empty(self):\n",
    "        return self.base == None\n",
    "        \n",
    "    def push(self, item): # We can't assume the state of the stack. We dont know if there is a base,\n",
    "#                           so create a new node and make it a base.\n",
    "        if not self.base:\n",
    "            self.base = Node(item)\n",
    "        else:\n",
    "            current = self.base\n",
    "            while current.above:  # what if we added a counter for our loop?\n",
    "                current = current.above \n",
    "            current.above = Node(item)\n",
    "    \n",
    "    def pop(self):\n",
    "        if self.base: # if there is a base\n",
    "            prev = None\n",
    "            \n",
    "            current = self.base # traversal\n",
    "            while current.above: \n",
    "                prev = current\n",
    "                current = current.above\n",
    "            if not prev: # The case where there is only 1 node!\n",
    "                self.base = None\n",
    "                return current.data\n",
    "            \n",
    "            prev.above = None \n",
    "            return current.data\n",
    "        raise IndexError(\"pop from empty stack\")\n",
    "        \n",
    "    def peek(self):\n",
    "        current = self.base\n",
    "        while current:\n",
    "            current = current.above\n",
    "        if not current:\n",
    "            raise IndexError(\"The stack is empty\")\n",
    "        return current.data\n",
    "    \n",
    "    def size(self):\n",
    "        counter = 0\n",
    "        current = self.base\n",
    "        while current:\n",
    "            counter += 1\n",
    "            current = current.above\n",
    "        return counter\n",
    "        "
   ]
  },
  {
   "cell_type": "code",
   "execution_count": 94,
   "id": "40ba3015",
   "metadata": {},
   "outputs": [],
   "source": [
    "def reverse_str(str_input):\n",
    "    rev_str = \"\"    # You can append to strings\n",
    "    stack = Stack() # Instantiate the class to a \n",
    "    \n",
    "    for each_letter in str_input:      # Pushes each letter to the self.items = []\n",
    "        stack.push(each_letter)\n",
    "\n",
    "    while not stack.is_empty():\n",
    "#       rev_str = rev_str + stack.pop()\n",
    "        rev_str += stack.pop()\n",
    "        \n",
    "    return rev_str"
   ]
  },
  {
   "cell_type": "code",
   "execution_count": 95,
   "id": "5779f6bd",
   "metadata": {},
   "outputs": [
    {
     "data": {
      "text/plain": [
       "'jkfdsfdsld;saaB'"
      ]
     },
     "execution_count": 95,
     "metadata": {},
     "output_type": "execute_result"
    }
   ],
   "source": [
    "reverse_str(\"Baas;dlsdfsdfkj\")"
   ]
  },
  {
   "cell_type": "code",
   "execution_count": null,
   "id": "6258d83b",
   "metadata": {},
   "outputs": [],
   "source": []
  },
  {
   "cell_type": "code",
   "execution_count": null,
   "id": "a300c108",
   "metadata": {},
   "outputs": [],
   "source": []
  },
  {
   "cell_type": "code",
   "execution_count": null,
   "id": "b2101163",
   "metadata": {},
   "outputs": [],
   "source": []
  },
  {
   "cell_type": "code",
   "execution_count": null,
   "id": "1c157b7d",
   "metadata": {},
   "outputs": [],
   "source": []
  },
  {
   "cell_type": "code",
   "execution_count": null,
   "id": "193adfae",
   "metadata": {},
   "outputs": [],
   "source": []
  },
  {
   "cell_type": "code",
   "execution_count": null,
   "id": "37da0147",
   "metadata": {},
   "outputs": [],
   "source": []
  },
  {
   "cell_type": "code",
   "execution_count": null,
   "id": "fb758cca",
   "metadata": {},
   "outputs": [],
   "source": []
  },
  {
   "cell_type": "code",
   "execution_count": null,
   "id": "c388f045",
   "metadata": {},
   "outputs": [],
   "source": []
  }
 ],
 "metadata": {
  "kernelspec": {
   "display_name": "Python 3 (ipykernel)",
   "language": "python",
   "name": "python3"
  },
  "language_info": {
   "codemirror_mode": {
    "name": "ipython",
    "version": 3
   },
   "file_extension": ".py",
   "mimetype": "text/x-python",
   "name": "python",
   "nbconvert_exporter": "python",
   "pygments_lexer": "ipython3",
   "version": "3.9.12"
  }
 },
 "nbformat": 4,
 "nbformat_minor": 5
}
