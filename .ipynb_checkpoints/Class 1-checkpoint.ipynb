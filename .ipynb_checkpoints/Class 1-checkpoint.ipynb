{
 "cells": [
  {
   "cell_type": "code",
   "execution_count": 1,
   "id": "8bcb6489",
   "metadata": {},
   "outputs": [
    {
     "name": "stdout",
     "output_type": "stream",
     "text": [
      "H\n",
      "e\n",
      "l\n",
      "l\n",
      "o\n",
      ",\n",
      " \n",
      "w\n",
      "o\n",
      "r\n",
      "l\n",
      "d\n",
      "!\n"
     ]
    }
   ],
   "source": [
    "for letter in \"Hello, world!\":\n",
    "    print(letter)\n",
    "# After you type in this code, press SHIFT+ENTER to run the command"
   ]
  },
  {
   "cell_type": "markdown",
   "id": "6f8273fe",
   "metadata": {},
   "source": [
    "# Problem 1:\n",
    "## Given two strings as input, determine if they ar anagrams of each other per the following criteria:\n",
    "\n",
    "Two strings are only anagrams of each other if all conditions below are met:\n",
    "1. They must be exactly the same length\n",
    "2. They must use exactly the same characters.\n",
    "\n",
    "```\n",
    "Examples:\n",
    "cars and scars\n",
    "heart and earth\n",
    "etc\n",
    "```\n",
    "##### Note: Once you've copied everything, press SHIFT+ENTER"
   ]
  },
  {
   "cell_type": "code",
   "execution_count": null,
   "id": "c7bed191",
   "metadata": {},
   "outputs": [],
   "source": [
    "# This is a BAD idea:\n",
    "def anagram_check(str1, str2)\n",
    "    return sorted(str1) == sorted(str2)\n",
    "\n",
    "anagram_check('earth','heart')"
   ]
  },
  {
   "cell_type": "code",
   "execution_count": null,
   "id": "fab770c8",
   "metadata": {},
   "outputs": [],
   "source": [
    "# (A) Pseudo Code FIRST! \n",
    "# define a function anagram_check: parameter -> (string1, string2)\n",
    "#    if the length of string1 is not equal to the length of string2:\n",
    "#        return False\n",
    "# \n",
    "#    dict_for_s1 = dict()\n",
    "#    dict_for_s2 = dict()\n",
    "# \n",
    "#    if the length of string1 is equal to the length of string2:\n",
    "# \n",
    "#        for each index in the range from 0 to the length of string1:\n",
    "#            if the character at position \"index\" of string1 is in dict_for_s1:\n",
    "#                   dict_for_s1[index] = dict_for_s1[index]+1\n",
    "#            else:\n",
    "#                   create a new key in dict_for_s1 for the character at position \"index\"\n",
    "# \n",
    "#            if the character at position \"index\" of the string2 is in dict_for_s2:\n",
    "#                   dict_for_s2[index] = dict_for_s2[index]+1\n",
    "#            else:\n",
    "#                   create a new key in dict_for_s2 for the character at position \"index\"\n",
    "#     \n",
    "#     return (dict_for_s1 == dict_for_s2)"
   ]
  },
  {
   "cell_type": "code",
   "execution_count": 2,
   "id": "baa485a8",
   "metadata": {},
   "outputs": [
    {
     "name": "stdout",
     "output_type": "stream",
     "text": [
      "65\n",
      "97\n"
     ]
    }
   ],
   "source": [
    "# (B) what about the following example:\n",
    "# \"Tom Marvollo Riddle\" and \"I am Lord Voldemort\"\n",
    "print(ord(\"A\"))\n",
    "print(ord(\"a\"))"
   ]
  },
  {
   "cell_type": "code",
   "execution_count": null,
   "id": "010fd1f1",
   "metadata": {},
   "outputs": [],
   "source": [
    "# your function should return True for the example above."
   ]
  },
  {
   "cell_type": "code",
   "execution_count": 5,
   "id": "d31d26fa",
   "metadata": {},
   "outputs": [],
   "source": [
    "# A solution:\n",
    "def is_anagram(str1, str2):\n",
    "    # Initialize our two dictionaries to potentially compare\n",
    "    dict_for_s1 = {}\n",
    "    dict_for_s2 = {}\n",
    "    # Clean the data first by stripping the spaces first using .split()\n",
    "    # This creates a list of strings that were separated by spaces in the immutable string. .\n",
    "    # Then use .join() on the list to turn it into one, long string.\n",
    "    # Then convert to lower case using .lower()\n",
    "    \n",
    "    str1_clean = (\"\".join(str1.split())).lower()\n",
    "    print(\"str1_clean char count\", len(str1_clean))\n",
    "    str2_clean = (\"\".join(str2.split())).lower()\n",
    "    print(\"str1_clean char count\",len(str2_clean))\n",
    "    \n",
    "#   Easy way to remove spaces\n",
    "    str1_clean = (str1.replace(\" \", \"\")).lower()\n",
    "    str2_clean = (str2.replace(\" \", \"\")).lower()\n",
    "    \n",
    "    if len(str1_clean) != len(str2_clean):\n",
    "        return False\n",
    "    else:\n",
    "#       Create keys for each character in str1_clean and tally the count\n",
    "        for char in str1_clean:\n",
    "            if char in dict_for_s1.keys():\n",
    "                dict_for_s1[char] = dict_for_s1[char] + 1\n",
    "            else:\n",
    "                 dict_for_s1[char] = 1\n",
    "#       Create keys for each character in str2_clean and tally the count\n",
    "        for char in str2_clean:\n",
    "            if char in dict_for_s2.keys():\n",
    "                dict_for_s2[char] = dict_for_s2[char] + 1\n",
    "            else:\n",
    "                 dict_for_s2[char] = 1\n",
    "#   Do both strings have equal counts for each of their characters?   \n",
    "    return dict_for_s1 == dict_for_s2"
   ]
  },
  {
   "cell_type": "code",
   "execution_count": 12,
   "id": "0af430c8",
   "metadata": {},
   "outputs": [
    {
     "name": "stdout",
     "output_type": "stream",
     "text": [
      "True\n"
     ]
    }
   ],
   "source": [
    "# Assert: \n",
    "str1 = 'A hpy lapows up bittle boy grg, strong and mian    '\n",
    "str2 = 'A h litd matle boy grows u, strong an     p byigappn  '\n",
    "# str1_clean = \"\".join(str1.split())\n",
    "print(is_anagram(str1, str2))\n",
    "# print(str1_clean)"
   ]
  },
  {
   "cell_type": "code",
   "execution_count": 11,
   "id": "9acda503",
   "metadata": {},
   "outputs": [
    {
     "name": "stdout",
     "output_type": "stream",
     "text": [
      "True\n"
     ]
    }
   ],
   "source": [
    "# HW Check:\n",
    "HP_str_1 = \"I AM LORD VOLDEMORT\"\n",
    "HP_str_2 = \"Tom Marvolo Riddle\"\n",
    "\n",
    "print(is_anagram(HP_str_1, HP_str_2))"
   ]
  },
  {
   "cell_type": "code",
   "execution_count": null,
   "id": "15120621",
   "metadata": {},
   "outputs": [],
   "source": []
  }
 ],
 "metadata": {
  "kernelspec": {
   "display_name": "Python 3 (ipykernel)",
   "language": "python",
   "name": "python3"
  },
  "language_info": {
   "codemirror_mode": {
    "name": "ipython",
    "version": 3
   },
   "file_extension": ".py",
   "mimetype": "text/x-python",
   "name": "python",
   "nbconvert_exporter": "python",
   "pygments_lexer": "ipython3",
   "version": "3.9.12"
  }
 },
 "nbformat": 4,
 "nbformat_minor": 5
}
